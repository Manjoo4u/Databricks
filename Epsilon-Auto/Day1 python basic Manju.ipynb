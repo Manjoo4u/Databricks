{
 "cells": [
  {
   "cell_type": "markdown",
   "metadata": {
    "application/vnd.databricks.v1+cell": {
     "cellMetadata": {},
     "inputWidgets": {},
     "nuid": "d4d02650-bcf9-4672-8011-4cc17fddb8cc",
     "showTitle": false,
     "tableResultSettingsMap": {},
     "title": ""
    },
    "id": "fGmTheuQCs6D"
   },
   "source": [
    "## Python Demo"
   ]
  },
  {
   "cell_type": "markdown",
   "metadata": {
    "application/vnd.databricks.v1+cell": {
     "cellMetadata": {},
     "inputWidgets": {},
     "nuid": "053fd9ab-85f9-4f85-b4e7-2e7717363606",
     "showTitle": false,
     "tableResultSettingsMap": {},
     "title": ""
    },
    "id": "KJ6I7e33CzYt"
   },
   "source": [
    "Different Data types to discuss\n",
    "\n",
    "Int\n",
    "\n",
    "Float\n",
    "\n",
    "String\n",
    "\n",
    "Bool\n",
    "\n",
    "Complex\n"
   ]
  },
  {
   "cell_type": "code",
   "execution_count": 0,
   "metadata": {
    "application/vnd.databricks.v1+cell": {
     "cellMetadata": {},
     "inputWidgets": {},
     "nuid": "596026ec-b9cb-4c27-8e6b-94de9cb2b573",
     "showTitle": false,
     "tableResultSettingsMap": {},
     "title": ""
    },
    "colab": {
     "base_uri": "https://localhost:8080/"
    },
    "executionInfo": {
     "elapsed": 10,
     "status": "ok",
     "timestamp": 1750669886264,
     "user": {
      "displayName": "Manjunatha Manju",
      "userId": "05811672478566691194"
     },
     "user_tz": -330
    },
    "id": "wyjvAr02B9Au",
    "outputId": "afad9329-e934-477e-e70a-94b05a45154c"
   },
   "outputs": [],
   "source": [
    "a=10;\n",
    "print(a);\n",
    "print(type(a));"
   ]
  },
  {
   "cell_type": "code",
   "execution_count": 0,
   "metadata": {
    "application/vnd.databricks.v1+cell": {
     "cellMetadata": {},
     "inputWidgets": {},
     "nuid": "e0916a26-113a-4b09-afca-1b841a92d335",
     "showTitle": false,
     "tableResultSettingsMap": {},
     "title": ""
    },
    "colab": {
     "base_uri": "https://localhost:8080/"
    },
    "executionInfo": {
     "elapsed": 11,
     "status": "ok",
     "timestamp": 1750670136758,
     "user": {
      "displayName": "Manjunatha Manju",
      "userId": "05811672478566691194"
     },
     "user_tz": -330
    },
    "id": "MgRoo3GdDhYG",
    "outputId": "92f198da-fd93-4bd6-94fe-5bed4bc385fd"
   },
   "outputs": [],
   "source": [
    "a=10.1;\n",
    "print(a);\n",
    "print(type(a));"
   ]
  },
  {
   "cell_type": "code",
   "execution_count": 0,
   "metadata": {
    "application/vnd.databricks.v1+cell": {
     "cellMetadata": {},
     "inputWidgets": {},
     "nuid": "5bf2b315-0830-4fcf-9c8b-64b4fde41c9f",
     "showTitle": false,
     "tableResultSettingsMap": {},
     "title": ""
    },
    "colab": {
     "base_uri": "https://localhost:8080/"
    },
    "executionInfo": {
     "elapsed": 7,
     "status": "ok",
     "timestamp": 1750670172016,
     "user": {
      "displayName": "Manjunatha Manju",
      "userId": "05811672478566691194"
     },
     "user_tz": -330
    },
    "id": "9HNuapYMEnss",
    "outputId": "4be3a740-8e32-46fb-9bee-624cae41088d"
   },
   "outputs": [],
   "source": [
    "a=\"\"\"Manju\n",
    "is smart\"\"\";\n",
    "print(a);\n",
    "print(type(a));"
   ]
  },
  {
   "cell_type": "code",
   "execution_count": 0,
   "metadata": {
    "application/vnd.databricks.v1+cell": {
     "cellMetadata": {},
     "inputWidgets": {},
     "nuid": "98cc0f8f-70b7-43c4-83aa-493d6b796b45",
     "showTitle": false,
     "tableResultSettingsMap": {},
     "title": ""
    },
    "colab": {
     "base_uri": "https://localhost:8080/"
    },
    "executionInfo": {
     "elapsed": 19,
     "status": "ok",
     "timestamp": 1750670419916,
     "user": {
      "displayName": "Manjunatha Manju",
      "userId": "05811672478566691194"
     },
     "user_tz": -330
    },
    "id": "Wc_zEj8mFoGv",
    "outputId": "b0a27afc-2782-4869-e9f0-cb94403fa841"
   },
   "outputs": [],
   "source": [
    "a=True;\n",
    "print(a);\n",
    "print(type(a));"
   ]
  },
  {
   "cell_type": "code",
   "execution_count": 0,
   "metadata": {
    "application/vnd.databricks.v1+cell": {
     "cellMetadata": {},
     "inputWidgets": {},
     "nuid": "736a509d-11c3-4a0b-ac5e-a4a33494b9da",
     "showTitle": false,
     "tableResultSettingsMap": {},
     "title": ""
    },
    "colab": {
     "base_uri": "https://localhost:8080/"
    },
    "executionInfo": {
     "elapsed": 6,
     "status": "ok",
     "timestamp": 1750670968647,
     "user": {
      "displayName": "Manjunatha Manju",
      "userId": "05811672478566691194"
     },
     "user_tz": -330
    },
    "id": "CxxewVcNHWcu",
    "outputId": "ce5593c1-59c5-4852-d063-5d606e665c04"
   },
   "outputs": [],
   "source": [
    "a=20;\n",
    "print(a);\n",
    "print(id(a));"
   ]
  },
  {
   "cell_type": "code",
   "execution_count": 0,
   "metadata": {
    "application/vnd.databricks.v1+cell": {
     "cellMetadata": {},
     "inputWidgets": {},
     "nuid": "792fd141-79c2-4ad8-81b8-f6a749915705",
     "showTitle": false,
     "tableResultSettingsMap": {},
     "title": ""
    },
    "colab": {
     "base_uri": "https://localhost:8080/"
    },
    "executionInfo": {
     "elapsed": 47,
     "status": "ok",
     "timestamp": 1750671378096,
     "user": {
      "displayName": "Manjunatha Manju",
      "userId": "05811672478566691194"
     },
     "user_tz": -330
    },
    "id": "B97TsxurJTHC",
    "outputId": "ea6e09df-b8cb-43c2-dd65-836502d081b5"
   },
   "outputs": [],
   "source": [
    "a=10;\n",
    "print(a);\n",
    "print(id(a));"
   ]
  },
  {
   "cell_type": "code",
   "execution_count": 0,
   "metadata": {
    "application/vnd.databricks.v1+cell": {
     "cellMetadata": {},
     "inputWidgets": {},
     "nuid": "b13d908b-6351-4318-93e5-73b816499ae6",
     "showTitle": false,
     "tableResultSettingsMap": {},
     "title": ""
    },
    "colab": {
     "base_uri": "https://localhost:8080/"
    },
    "executionInfo": {
     "elapsed": 15,
     "status": "ok",
     "timestamp": 1750671384222,
     "user": {
      "displayName": "Manjunatha Manju",
      "userId": "05811672478566691194"
     },
     "user_tz": -330
    },
    "id": "_cuk2gwtJU-E",
    "outputId": "3d33193f-e599-4364-f400-e7f6c52e723c"
   },
   "outputs": [],
   "source": [
    "a=20;\n",
    "print(a);\n",
    "print(id(a));"
   ]
  },
  {
   "cell_type": "code",
   "execution_count": 0,
   "metadata": {
    "application/vnd.databricks.v1+cell": {
     "cellMetadata": {},
     "inputWidgets": {},
     "nuid": "d08fca3c-9894-49fb-b380-d29e3c47d10a",
     "showTitle": false,
     "tableResultSettingsMap": {},
     "title": ""
    },
    "colab": {
     "base_uri": "https://localhost:8080/"
    },
    "executionInfo": {
     "elapsed": 5,
     "status": "ok",
     "timestamp": 1750672073369,
     "user": {
      "displayName": "Manjunatha Manju",
      "userId": "05811672478566691194"
     },
     "user_tz": -330
    },
    "id": "kWeX4BHmK0lK",
    "outputId": "d8f681da-e850-4631-dd8a-b1216882f69c"
   },
   "outputs": [],
   "source": [
    "s = \"Manju is back\"\n",
    "print(s[0]);\n",
    "print(s[1]);# Indexing\n",
    "print(s[-1]);\n",
    "print(s[:6]);\n",
    "print(s[4:15]); # slicing\n",
    "print(s[0:1]); # slicing"
   ]
  },
  {
   "cell_type": "code",
   "execution_count": 0,
   "metadata": {
    "application/vnd.databricks.v1+cell": {
     "cellMetadata": {},
     "inputWidgets": {},
     "nuid": "c662ccf3-4ec1-4603-b6f4-ef48a3a846a6",
     "showTitle": false,
     "tableResultSettingsMap": {},
     "title": ""
    },
    "id": "n4xET72YPmiu"
   },
   "outputs": [],
   "source": [
    "s=\"AWS\" + \" \" + \"Databricks\""
   ]
  },
  {
   "cell_type": "code",
   "execution_count": 0,
   "metadata": {
    "application/vnd.databricks.v1+cell": {
     "cellMetadata": {},
     "inputWidgets": {},
     "nuid": "60a6b573-33e2-4e9c-ba9a-9809f6882c11",
     "showTitle": false,
     "tableResultSettingsMap": {},
     "title": ""
    },
    "colab": {
     "base_uri": "https://localhost:8080/"
    },
    "executionInfo": {
     "elapsed": 26,
     "status": "ok",
     "timestamp": 1750673037986,
     "user": {
      "displayName": "Manjunatha Manju",
      "userId": "05811672478566691194"
     },
     "user_tz": -330
    },
    "id": "UKZZHvJbPpLp",
    "outputId": "37bbed36-0127-4cd8-b8c9-d70497bc8eed"
   },
   "outputs": [],
   "source": [
    "print(s)"
   ]
  },
  {
   "cell_type": "code",
   "execution_count": 0,
   "metadata": {
    "application/vnd.databricks.v1+cell": {
     "cellMetadata": {},
     "inputWidgets": {},
     "nuid": "5ebe72c3-8070-43c3-95e7-df5a95883bcc",
     "showTitle": false,
     "tableResultSettingsMap": {},
     "title": ""
    },
    "colab": {
     "base_uri": "https://localhost:8080/"
    },
    "executionInfo": {
     "elapsed": 7,
     "status": "ok",
     "timestamp": 1750673048248,
     "user": {
      "displayName": "Manjunatha Manju",
      "userId": "05811672478566691194"
     },
     "user_tz": -330
    },
    "id": "V5LRgBVGPrs2",
    "outputId": "3268c819-e185-4548-b544-a0bd3f5d07d8"
   },
   "outputs": [],
   "source": [
    "s=\"AWS\" * 3\n",
    "print(s)"
   ]
  },
  {
   "cell_type": "code",
   "execution_count": 0,
   "metadata": {
    "application/vnd.databricks.v1+cell": {
     "cellMetadata": {},
     "inputWidgets": {},
     "nuid": "b74388bc-6717-43bb-98e8-0e78447d8f0d",
     "showTitle": false,
     "tableResultSettingsMap": {},
     "title": ""
    },
    "colab": {
     "base_uri": "https://localhost:8080/"
    },
    "executionInfo": {
     "elapsed": 23,
     "status": "ok",
     "timestamp": 1750673058073,
     "user": {
      "displayName": "Manjunatha Manju",
      "userId": "05811672478566691194"
     },
     "user_tz": -330
    },
    "id": "SeyvWGrqPuEQ",
    "outputId": "918965b9-8960-42f1-8545-f4a21df4c3a2"
   },
   "outputs": [],
   "source": [
    "print(float(10))\n",
    "print(str(10))\n",
    "print(bool(10))\n",
    "print(bool(0))"
   ]
  },
  {
   "cell_type": "code",
   "execution_count": 0,
   "metadata": {
    "application/vnd.databricks.v1+cell": {
     "cellMetadata": {},
     "inputWidgets": {},
     "nuid": "f9b83360-9970-47a6-b477-1af70b735c97",
     "showTitle": false,
     "tableResultSettingsMap": {},
     "title": ""
    },
    "colab": {
     "base_uri": "https://localhost:8080/"
    },
    "executionInfo": {
     "elapsed": 11,
     "status": "ok",
     "timestamp": 1750673073479,
     "user": {
      "displayName": "Manjunatha Manju",
      "userId": "05811672478566691194"
     },
     "user_tz": -330
    },
    "id": "pbCproWDPwdl",
    "outputId": "7c09d9ec-568a-4286-b378-d470ab90b97a"
   },
   "outputs": [],
   "source": [
    "print(int(10.1))\n",
    "print(str(10.1))\n",
    "print(bool(10.1))\n",
    "print(bool(0.0))"
   ]
  },
  {
   "cell_type": "code",
   "execution_count": 0,
   "metadata": {
    "application/vnd.databricks.v1+cell": {
     "cellMetadata": {},
     "inputWidgets": {},
     "nuid": "e26932be-1ce7-4b7d-8bfa-44d9908458b6",
     "showTitle": false,
     "tableResultSettingsMap": {},
     "title": ""
    },
    "colab": {
     "base_uri": "https://localhost:8080/"
    },
    "executionInfo": {
     "elapsed": 16,
     "status": "ok",
     "timestamp": 1750673212549,
     "user": {
      "displayName": "Manjunatha Manju",
      "userId": "05811672478566691194"
     },
     "user_tz": -330
    },
    "id": "K8ACagWLQSaW",
    "outputId": "8eb180a8-7b73-452f-a0d5-394f9d394bcf"
   },
   "outputs": [],
   "source": [
    "print(int(\"10\"))\n",
    "#print(int(\"python\")) # Error\n",
    "#print(float(\"python\")) #Error\n",
    "print(bool(\"python\"))\n",
    "print(bool(\"\"))"
   ]
  },
  {
   "cell_type": "code",
   "execution_count": 0,
   "metadata": {
    "application/vnd.databricks.v1+cell": {
     "cellMetadata": {},
     "inputWidgets": {},
     "nuid": "1a6df36a-d55f-4d76-8234-333634f6bc0c",
     "showTitle": false,
     "tableResultSettingsMap": {},
     "title": ""
    },
    "id": "d5Fj90s_V-tt"
   },
   "outputs": [],
   "source": [
    "l=[10,20,'SQL','AWS','AWS',True, False,99.99,10]"
   ]
  },
  {
   "cell_type": "code",
   "execution_count": 0,
   "metadata": {
    "application/vnd.databricks.v1+cell": {
     "cellMetadata": {},
     "inputWidgets": {},
     "nuid": "76ee5899-7431-4463-9fc5-d5b63ccbccc6",
     "showTitle": false,
     "tableResultSettingsMap": {},
     "title": ""
    },
    "colab": {
     "base_uri": "https://localhost:8080/"
    },
    "executionInfo": {
     "elapsed": 28,
     "status": "ok",
     "timestamp": 1750674706076,
     "user": {
      "displayName": "Manjunatha Manju",
      "userId": "05811672478566691194"
     },
     "user_tz": -330
    },
    "id": "Gms5DeNBWAc3",
    "outputId": "3e18b51f-7943-4a90-a32e-5503ac7c1d01"
   },
   "outputs": [],
   "source": [
    "print(l)\n",
    "print(id(l))\n",
    "print(type(l))\n",
    "l.append(55)\n",
    "print(l)\n",
    "print(id(l))"
   ]
  },
  {
   "cell_type": "code",
   "execution_count": 0,
   "metadata": {
    "application/vnd.databricks.v1+cell": {
     "cellMetadata": {},
     "inputWidgets": {},
     "nuid": "4646e3ed-2d2b-469f-bbde-701c0d84024e",
     "showTitle": false,
     "tableResultSettingsMap": {},
     "title": ""
    },
    "colab": {
     "base_uri": "https://localhost:8080/"
    },
    "executionInfo": {
     "elapsed": 4,
     "status": "ok",
     "timestamp": 1750674716897,
     "user": {
      "displayName": "Manjunatha Manju",
      "userId": "05811672478566691194"
     },
     "user_tz": -330
    },
    "id": "Lmsk0NTLWDE1",
    "outputId": "d6b12a53-9e39-43e2-de5a-5a7902b2c480"
   },
   "outputs": [],
   "source": [
    "l=[1,2,3,'a','b']\n",
    "print(l)\n",
    "print(id(l))"
   ]
  },
  {
   "cell_type": "code",
   "execution_count": 0,
   "metadata": {
    "application/vnd.databricks.v1+cell": {
     "cellMetadata": {},
     "inputWidgets": {},
     "nuid": "09a8cdaf-70b8-40ff-931d-be68040f98a8",
     "showTitle": false,
     "tableResultSettingsMap": {},
     "title": ""
    },
    "colab": {
     "base_uri": "https://localhost:8080/"
    },
    "executionInfo": {
     "elapsed": 5,
     "status": "ok",
     "timestamp": 1750674738435,
     "user": {
      "displayName": "Manjunatha Manju",
      "userId": "05811672478566691194"
     },
     "user_tz": -330
    },
    "id": "DZglbneZWIWC",
    "outputId": "8a3920dd-4b60-4e30-a93e-320282db7f9b"
   },
   "outputs": [],
   "source": [
    "l[:100]"
   ]
  },
  {
   "cell_type": "markdown",
   "metadata": {
    "application/vnd.databricks.v1+cell": {
     "cellMetadata": {},
     "inputWidgets": {},
     "nuid": "103e9f49-4e11-46ff-9ebb-158e8ec344f5",
     "showTitle": false,
     "tableResultSettingsMap": {},
     "title": ""
    },
    "id": "IIfa1W1EWSk8"
   },
   "source": [
    "Tuple\n",
    "\n",
    "Excatly same as list except that it is immutable\n",
    "\n",
    "Read only version of list is tuple\n",
    "\n",
    "()"
   ]
  },
  {
   "cell_type": "code",
   "execution_count": 0,
   "metadata": {
    "application/vnd.databricks.v1+cell": {
     "cellMetadata": {},
     "inputWidgets": {},
     "nuid": "cebd0b4c-11ee-4c72-8500-a7b3ce0bc4af",
     "showTitle": false,
     "tableResultSettingsMap": {},
     "title": ""
    },
    "id": "qwLSoCHHWVbj"
   },
   "outputs": [],
   "source": [
    "t=(10,10,'a',True,'Naval')"
   ]
  },
  {
   "cell_type": "code",
   "execution_count": 0,
   "metadata": {
    "application/vnd.databricks.v1+cell": {
     "cellMetadata": {},
     "inputWidgets": {},
     "nuid": "7201b660-f23f-4dea-a019-6e6b0440dd88",
     "showTitle": false,
     "tableResultSettingsMap": {},
     "title": ""
    },
    "colab": {
     "base_uri": "https://localhost:8080/",
     "height": 35
    },
    "executionInfo": {
     "elapsed": 19,
     "status": "ok",
     "timestamp": 1750674806520,
     "user": {
      "displayName": "Manjunatha Manju",
      "userId": "05811672478566691194"
     },
     "user_tz": -330
    },
    "id": "-s3OKbRGWZCa",
    "outputId": "92193603-03a1-4775-db44-3b94ef344da6"
   },
   "outputs": [],
   "source": [
    "t[-1]"
   ]
  },
  {
   "cell_type": "code",
   "execution_count": 0,
   "metadata": {
    "application/vnd.databricks.v1+cell": {
     "cellMetadata": {},
     "inputWidgets": {},
     "nuid": "25e9b821-fe11-4a4a-904d-b3cbe1f1d482",
     "showTitle": false,
     "tableResultSettingsMap": {},
     "title": ""
    },
    "colab": {
     "base_uri": "https://localhost:8080/",
     "height": 141
    },
    "executionInfo": {
     "elapsed": 284,
     "status": "error",
     "timestamp": 1750674813653,
     "user": {
      "displayName": "Manjunatha Manju",
      "userId": "05811672478566691194"
     },
     "user_tz": -330
    },
    "id": "KMyhtw_RWate",
    "outputId": "4b090e8b-ba09-494f-ba83-45484f83b668"
   },
   "outputs": [],
   "source": [
    "t.append(99)"
   ]
  },
  {
   "cell_type": "markdown",
   "metadata": {
    "application/vnd.databricks.v1+cell": {
     "cellMetadata": {},
     "inputWidgets": {},
     "nuid": "7b945dd3-e3ae-455b-8eeb-b12e8d9f33cd",
     "showTitle": false,
     "tableResultSettingsMap": {},
     "title": ""
    },
    "id": "D_jFHoR8YZ6N"
   },
   "source": [
    "#set\n",
    "\n",
    "{}\n",
    "Hetergenous objects are allowed\n",
    "\n",
    "Duplicates are not allowed\n",
    "\n",
    "Order is NOT preserved\n",
    "\n",
    "Indexing and slicing NOT support\n",
    "\n",
    "Mutable\n"
   ]
  },
  {
   "cell_type": "code",
   "execution_count": 0,
   "metadata": {
    "application/vnd.databricks.v1+cell": {
     "cellMetadata": {},
     "inputWidgets": {},
     "nuid": "72295f44-e379-46fb-a12e-57ab8db79510",
     "showTitle": false,
     "tableResultSettingsMap": {},
     "title": ""
    },
    "colab": {
     "base_uri": "https://localhost:8080/"
    },
    "executionInfo": {
     "elapsed": 18,
     "status": "ok",
     "timestamp": 1750675355600,
     "user": {
      "displayName": "Manjunatha Manju",
      "userId": "05811672478566691194"
     },
     "user_tz": -330
    },
    "id": "46mbSlyQYdmZ",
    "outputId": "221067e8-8002-4fc1-9e71-51b9d73f1aae"
   },
   "outputs": [],
   "source": [
    "s={10,10,20,30,30,'A',True,'A','Python',20}\n",
    "print(s)"
   ]
  },
  {
   "cell_type": "code",
   "execution_count": 0,
   "metadata": {
    "application/vnd.databricks.v1+cell": {
     "cellMetadata": {},
     "inputWidgets": {},
     "nuid": "147e1def-415a-4812-8dd9-fe50fc83fa58",
     "showTitle": false,
     "tableResultSettingsMap": {},
     "title": ""
    },
    "id": "0aLGV9VMYZsV"
   },
   "outputs": [],
   "source": [
    "s.add(99)"
   ]
  },
  {
   "cell_type": "code",
   "execution_count": 0,
   "metadata": {
    "application/vnd.databricks.v1+cell": {
     "cellMetadata": {},
     "inputWidgets": {},
     "nuid": "1ec10691-710d-43d8-8cd6-0b6f5dfbc2a4",
     "showTitle": false,
     "tableResultSettingsMap": {},
     "title": ""
    },
    "colab": {
     "base_uri": "https://localhost:8080/"
    },
    "executionInfo": {
     "elapsed": 31,
     "status": "ok",
     "timestamp": 1750675370745,
     "user": {
      "displayName": "Manjunatha Manju",
      "userId": "05811672478566691194"
     },
     "user_tz": -330
    },
    "id": "RgRqsM4AYixg",
    "outputId": "49af5c3d-8041-403d-cd5e-0b5ba62de37b"
   },
   "outputs": [],
   "source": [
    "print(s)"
   ]
  },
  {
   "cell_type": "markdown",
   "metadata": {
    "application/vnd.databricks.v1+cell": {
     "cellMetadata": {},
     "inputWidgets": {},
     "nuid": "a363084c-82ff-46c5-926d-b3373e015ea8",
     "showTitle": false,
     "tableResultSettingsMap": {},
     "title": ""
    },
    "id": "PBx0bXIzaCXU"
   },
   "source": [
    "Dict\n",
    "\n",
    "{k:v}\n",
    "\n",
    "Duplicate keys are NOT allowed\n",
    "\n",
    "Duplicate values are allowed\n",
    "\n",
    "Heterogenous are allowed\n",
    "\n",
    "Mutable\n"
   ]
  },
  {
   "cell_type": "code",
   "execution_count": 0,
   "metadata": {
    "application/vnd.databricks.v1+cell": {
     "cellMetadata": {},
     "inputWidgets": {},
     "nuid": "c4138b39-9765-4252-9f9a-cbffb9b89e24",
     "showTitle": false,
     "tableResultSettingsMap": {},
     "title": ""
    },
    "id": "HvaHGS1qaoz8"
   },
   "outputs": [],
   "source": [
    "d={1:'Naval',2:\"Ramakrishna\",3:\"Jaya\",4:\"Praveen\",5:\"Praveen\",6:True,7:100.0,'a':'b'}"
   ]
  },
  {
   "cell_type": "code",
   "execution_count": 0,
   "metadata": {
    "application/vnd.databricks.v1+cell": {
     "cellMetadata": {},
     "inputWidgets": {},
     "nuid": "03b696ef-739c-4130-a900-8ba0419d6967",
     "showTitle": false,
     "tableResultSettingsMap": {},
     "title": ""
    },
    "colab": {
     "base_uri": "https://localhost:8080/"
    },
    "executionInfo": {
     "elapsed": 6,
     "status": "ok",
     "timestamp": 1750675973281,
     "user": {
      "displayName": "Manjunatha Manju",
      "userId": "05811672478566691194"
     },
     "user_tz": -330
    },
    "id": "akZ-zFW8a13z",
    "outputId": "4541b516-c7da-4634-c6b4-0a01c447b661"
   },
   "outputs": [],
   "source": [
    "print(d)"
   ]
  },
  {
   "cell_type": "code",
   "execution_count": 0,
   "metadata": {
    "application/vnd.databricks.v1+cell": {
     "cellMetadata": {},
     "inputWidgets": {},
     "nuid": "27f04d70-cf97-4101-825a-ef9256e9511f",
     "showTitle": false,
     "tableResultSettingsMap": {},
     "title": ""
    },
    "id": "rBT8IfSca4HH"
   },
   "outputs": [],
   "source": [
    "d[5]='Mohan'"
   ]
  },
  {
   "cell_type": "code",
   "execution_count": 0,
   "metadata": {
    "application/vnd.databricks.v1+cell": {
     "cellMetadata": {},
     "inputWidgets": {},
     "nuid": "210219f5-2977-49b6-b3e6-fcd49dcdaf92",
     "showTitle": false,
     "tableResultSettingsMap": {},
     "title": ""
    },
    "colab": {
     "base_uri": "https://localhost:8080/"
    },
    "executionInfo": {
     "elapsed": 17,
     "status": "ok",
     "timestamp": 1750675987610,
     "user": {
      "displayName": "Manjunatha Manju",
      "userId": "05811672478566691194"
     },
     "user_tz": -330
    },
    "id": "buRmOKFia5aW",
    "outputId": "f89f11fb-b5ec-403a-a603-a143b5301be2"
   },
   "outputs": [],
   "source": [
    "print(d)"
   ]
  },
  {
   "cell_type": "code",
   "execution_count": 0,
   "metadata": {
    "application/vnd.databricks.v1+cell": {
     "cellMetadata": {},
     "inputWidgets": {},
     "nuid": "624c743c-a769-40e8-82e6-85734e4f9396",
     "showTitle": false,
     "tableResultSettingsMap": {},
     "title": ""
    },
    "id": "qLwwNCswbNkU"
   },
   "outputs": [],
   "source": [
    "d={1:'Naval',2:\"Ramakrishna\",3:\"Jaya\",4:\"Praveen\",5:\"Praveen\",6:True,7:100.0,\"a\":\"b\",\"c\":[10,20]}"
   ]
  },
  {
   "cell_type": "code",
   "execution_count": 0,
   "metadata": {
    "application/vnd.databricks.v1+cell": {
     "cellMetadata": {},
     "inputWidgets": {},
     "nuid": "669128e4-1405-4334-a309-73bf757efe5c",
     "showTitle": false,
     "tableResultSettingsMap": {},
     "title": ""
    },
    "colab": {
     "base_uri": "https://localhost:8080/"
    },
    "executionInfo": {
     "elapsed": 15,
     "status": "ok",
     "timestamp": 1750676097616,
     "user": {
      "displayName": "Manjunatha Manju",
      "userId": "05811672478566691194"
     },
     "user_tz": -330
    },
    "id": "MgkyYKmFbURB",
    "outputId": "dd1b8f24-f716-4ff5-d798-7ebe81b6b57f"
   },
   "outputs": [],
   "source": [
    "print(d[\"c\"][1])"
   ]
  },
  {
   "cell_type": "markdown",
   "metadata": {
    "application/vnd.databricks.v1+cell": {
     "cellMetadata": {},
     "inputWidgets": {},
     "nuid": "21483223-581c-472e-9d0d-bec4d78f59de",
     "showTitle": false,
     "tableResultSettingsMap": {},
     "title": ""
    },
    "id": "aokztd6ehCcz"
   },
   "source": [
    "Range: sequence of Number"
   ]
  },
  {
   "cell_type": "code",
   "execution_count": 0,
   "metadata": {
    "application/vnd.databricks.v1+cell": {
     "cellMetadata": {},
     "inputWidgets": {},
     "nuid": "10d79041-53be-4ab1-8867-bc435365af81",
     "showTitle": false,
     "tableResultSettingsMap": {},
     "title": ""
    },
    "colab": {
     "base_uri": "https://localhost:8080/"
    },
    "executionInfo": {
     "elapsed": 9,
     "status": "ok",
     "timestamp": 1750677606108,
     "user": {
      "displayName": "Manjunatha Manju",
      "userId": "05811672478566691194"
     },
     "user_tz": -330
    },
    "id": "wPvWCjVJhDMX",
    "outputId": "6bb10092-cfc3-434a-e37f-5f9286707897"
   },
   "outputs": [],
   "source": [
    "range(10)"
   ]
  },
  {
   "cell_type": "code",
   "execution_count": 0,
   "metadata": {
    "application/vnd.databricks.v1+cell": {
     "cellMetadata": {},
     "inputWidgets": {},
     "nuid": "2a8a301e-04ed-4f8d-b458-a433e9c84585",
     "showTitle": false,
     "tableResultSettingsMap": {},
     "title": ""
    },
    "colab": {
     "base_uri": "https://localhost:8080/"
    },
    "executionInfo": {
     "elapsed": 27,
     "status": "ok",
     "timestamp": 1750677612730,
     "user": {
      "displayName": "Manjunatha Manju",
      "userId": "05811672478566691194"
     },
     "user_tz": -330
    },
    "id": "nTmIovTzhGJG",
    "outputId": "fa0f1ddb-524a-4784-d164-d1e8df590f74"
   },
   "outputs": [],
   "source": [
    "for i in range(10):\n",
    "  print(i)"
   ]
  },
  {
   "cell_type": "code",
   "execution_count": 0,
   "metadata": {
    "application/vnd.databricks.v1+cell": {
     "cellMetadata": {},
     "inputWidgets": {},
     "nuid": "6e9d1f07-fcc6-48ea-b0c4-e711594944ea",
     "showTitle": false,
     "tableResultSettingsMap": {},
     "title": ""
    },
    "colab": {
     "base_uri": "https://localhost:8080/"
    },
    "executionInfo": {
     "elapsed": 18,
     "status": "ok",
     "timestamp": 1750677620504,
     "user": {
      "displayName": "Manjunatha Manju",
      "userId": "05811672478566691194"
     },
     "user_tz": -330
    },
    "id": "NzPZmsIehIED",
    "outputId": "c2b9e947-7d34-4e4e-80a7-066f9ee65e30"
   },
   "outputs": [],
   "source": [
    "for i in range(5,10):\n",
    "  print(i)"
   ]
  },
  {
   "cell_type": "code",
   "execution_count": 0,
   "metadata": {
    "application/vnd.databricks.v1+cell": {
     "cellMetadata": {},
     "inputWidgets": {},
     "nuid": "faf36d54-c2bb-4491-925d-28a3032f26ac",
     "showTitle": false,
     "tableResultSettingsMap": {},
     "title": ""
    },
    "colab": {
     "base_uri": "https://localhost:8080/"
    },
    "executionInfo": {
     "elapsed": 24,
     "status": "ok",
     "timestamp": 1750677628972,
     "user": {
      "displayName": "Manjunatha Manju",
      "userId": "05811672478566691194"
     },
     "user_tz": -330
    },
    "id": "9aEyamwBhKJU",
    "outputId": "6c0d9ed8-dabb-4247-9f24-02519caa12b8"
   },
   "outputs": [],
   "source": [
    "for i in range(3,30,3):\n",
    "  print(i)"
   ]
  },
  {
   "cell_type": "code",
   "execution_count": 0,
   "metadata": {
    "application/vnd.databricks.v1+cell": {
     "cellMetadata": {
      "byteLimit": 2048000,
      "rowLimit": 10000
     },
     "inputWidgets": {},
     "nuid": "35db109f-73f5-4e3c-baf2-dd68a22a249f",
     "showTitle": false,
     "tableResultSettingsMap": {},
     "title": ""
    },
    "colab": {
     "base_uri": "https://localhost:8080/"
    },
    "executionInfo": {
     "elapsed": 17,
     "status": "ok",
     "timestamp": 1750677636398,
     "user": {
      "displayName": "Manjunatha Manju",
      "userId": "05811672478566691194"
     },
     "user_tz": -330
    },
    "id": "wCSSj6SLhL6f",
    "outputId": "870d8031-62fc-45a8-abe0-71db6a87eca2"
   },
   "outputs": [],
   "source": [
    "for i in range(60,1,-5):\n",
    "  print(i)"
   ]
  },
  {
   "cell_type": "code",
   "execution_count": 0,
   "metadata": {
    "application/vnd.databricks.v1+cell": {
     "cellMetadata": {},
     "inputWidgets": {},
     "nuid": "40a14818-abb8-41f0-89f4-ef637b8c28f9",
     "showTitle": false,
     "tableResultSettingsMap": {},
     "title": ""
    },
    "colab": {
     "base_uri": "https://localhost:8080/"
    },
    "executionInfo": {
     "elapsed": 14,
     "status": "ok",
     "timestamp": 1750677648215,
     "user": {
      "displayName": "Manjunatha Manju",
      "userId": "05811672478566691194"
     },
     "user_tz": -330
    },
    "id": "MMO-OVbchOxS",
    "outputId": "0a72d9c8-cdfa-4cbc-fdce-a8348273086f"
   },
   "outputs": [],
   "source": [
    "# Using a list comprehension to generate floating-point numbers with a step\n",
    "float_numbers = [0.3 * i for i in range(int(1.5/0.3) + 1) if 0.3 * i <= 1.5]\n",
    "for i in float_numbers:\n",
    "  print(round(i, 1)) # Using round to handle potential floating point inaccuracies"
   ]
  },
  {
   "cell_type": "code",
   "execution_count": 0,
   "metadata": {
    "application/vnd.databricks.v1+cell": {
     "cellMetadata": {},
     "inputWidgets": {},
     "nuid": "6ea316f5-dd1c-4e16-b7cd-6b9b3845705b",
     "showTitle": false,
     "tableResultSettingsMap": {},
     "title": ""
    },
    "colab": {
     "base_uri": "https://localhost:8080/",
     "height": 159
    },
    "executionInfo": {
     "elapsed": 12,
     "status": "error",
     "timestamp": 1750677667547,
     "user": {
      "displayName": "Manjunatha Manju",
      "userId": "05811672478566691194"
     },
     "user_tz": -330
    },
    "id": "-alTB5NshSgU",
    "outputId": "6f854469-562a-4e3b-a55d-fa2ea5f9c0d0"
   },
   "outputs": [],
   "source": [
    "for i in range(0.3,1.5,0.3):\n",
    "  print(i)"
   ]
  },
  {
   "cell_type": "code",
   "execution_count": 0,
   "metadata": {
    "application/vnd.databricks.v1+cell": {
     "cellMetadata": {},
     "inputWidgets": {},
     "nuid": "1e2c658e-e330-4f6f-8f9b-04b022edeb87",
     "showTitle": false,
     "tableResultSettingsMap": {},
     "title": ""
    },
    "colab": {
     "base_uri": "https://localhost:8080/"
    },
    "executionInfo": {
     "elapsed": 5,
     "status": "ok",
     "timestamp": 1750677678063,
     "user": {
      "displayName": "Manjunatha Manju",
      "userId": "05811672478566691194"
     },
     "user_tz": -330
    },
    "id": "CQZJk6TohWDY",
    "outputId": "3ca5b7b7-fb19-48fb-94e2-7b083c2d000d"
   },
   "outputs": [],
   "source": [
    "# Using a list comprehension to generate floating-point numbers with a step\n",
    "float_numbers = [0.3 * i for i in range(int(1.5/0.3) + 1) if 0.3 * i <= 1.5]\n",
    "for i in float_numbers:\n",
    "  print(round(i, 1)) # Using round to handle potential floating point inaccuracies"
   ]
  }
 ],
 "metadata": {
  "application/vnd.databricks.v1+notebook": {
   "computePreferences": null,
   "dashboards": [],
   "environmentMetadata": null,
   "inputWidgetPreferences": null,
   "language": "python",
   "notebookMetadata": {
    "pythonIndentUnit": 4
   },
   "notebookName": "Day1 python basic Manju",
   "widgets": {}
  },
  "colab": {
   "authorship_tag": "ABX9TyNVZSSBX5cbmgdtohTZKUEC",
   "provenance": []
  },
  "kernelspec": {
   "display_name": "Python 3",
   "name": "python3"
  },
  "language_info": {
   "name": "python"
  }
 },
 "nbformat": 4,
 "nbformat_minor": 0
}
