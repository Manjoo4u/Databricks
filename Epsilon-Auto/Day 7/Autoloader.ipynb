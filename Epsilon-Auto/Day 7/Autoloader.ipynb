{
 "cells": [
  {
   "cell_type": "code",
   "execution_count": 0,
   "metadata": {
    "application/vnd.databricks.v1+cell": {
     "cellMetadata": {
      "byteLimit": 2048000,
      "rowLimit": 10000
     },
     "inputWidgets": {},
     "nuid": "c95270da-3195-489b-a1c4-9439e44b0903",
     "showTitle": false,
     "tableResultSettingsMap": {},
     "title": ""
    }
   },
   "outputs": [],
   "source": [
    "input=\"s3://jpmctraining/input\"\n",
    "schema=\"s3://jpmctraining/checkpoint/manju/autoloader/schema\"\n",
    "checkpoint=\"s3://jpmctraining/checkpoint/manju/autoloader/checkpoint\""
   ]
  },
  {
   "cell_type": "code",
   "execution_count": 0,
   "metadata": {
    "application/vnd.databricks.v1+cell": {
     "cellMetadata": {
      "byteLimit": 2048000,
      "rowLimit": 10000
     },
     "inputWidgets": {},
     "nuid": "491f3301-118c-45d0-bc93-59602e05fdc1",
     "showTitle": false,
     "tableResultSettingsMap": {},
     "title": ""
    }
   },
   "outputs": [],
   "source": [
    "(\n",
    "spark\n",
    " .readStream\n",
    " .format(\"cloudFiles\")\n",
    " .option(\"cloudFiles.format\",\"csv\")\n",
    " .option(\"cloudFiles.schemaLocation\",schema)\n",
    " .option(\"cloudFiles.inferColumnTypes\",\"true\")\n",
    " .load(input)\n",
    " .writeStream\n",
    " .option(\"checkpointLocation\",checkpoint)\n",
    "#.trigger(once=True)\n",
    " .toTable(\"auto.manju_bronze.autoloader\")\n",
    " )"
   ]
  },
  {
   "cell_type": "code",
   "execution_count": 0,
   "metadata": {
    "application/vnd.databricks.v1+cell": {
     "cellMetadata": {
      "byteLimit": 2048000,
      "implicitDf": true,
      "rowLimit": 10000
     },
     "inputWidgets": {},
     "nuid": "0c1ef5b2-ead7-460e-9c38-25bdb5f575d7",
     "showTitle": false,
     "tableResultSettingsMap": {},
     "title": ""
    }
   },
   "outputs": [],
   "source": [
    "%sql\n",
    "select * from auto.manju_bronze.autoloader"
   ]
  },
  {
   "cell_type": "code",
   "execution_count": 0,
   "metadata": {
    "application/vnd.databricks.v1+cell": {
     "cellMetadata": {
      "byteLimit": 2048000,
      "rowLimit": 10000
     },
     "inputWidgets": {},
     "nuid": "5bb19819-747a-436a-bf8e-cbb206699155",
     "showTitle": false,
     "tableResultSettingsMap": {},
     "title": ""
    }
   },
   "outputs": [],
   "source": [
    "input=\"s3://jpmctraining/input\"\n",
    "schema=\"s3://jpmctraining/checkpoint/manju/autoloader/schema4\"\n",
    "checkpoint=\"s3://jpmctraining/checkpoint/manju/autoloader/checkpoint4\""
   ]
  },
  {
   "cell_type": "code",
   "execution_count": 0,
   "metadata": {
    "application/vnd.databricks.v1+cell": {
     "cellMetadata": {
      "byteLimit": 2048000,
      "rowLimit": 10000
     },
     "inputWidgets": {},
     "nuid": "ba477a94-7606-4c91-9747-5644107ee8a3",
     "showTitle": false,
     "tableResultSettingsMap": {},
     "title": ""
    }
   },
   "outputs": [],
   "source": [
    "(\n",
    "spark\n",
    " .readStream\n",
    " .format(\"cloudFiles\")\n",
    " .option(\"cloudFiles.format\",\"csv\")\n",
    " .option(\"cloudFiles.schemaLocation\",schema)\n",
    " .option(\"cloudFiles.inferColumnTypes\",True)\n",
    " .option(\"cloudFiles.schemaEvolutionMode\",\"rescue\")\n",
    " .load(input)\n",
    " .writeStream\n",
    " .option(\"checkpointLocation\",checkpoint)\n",
    " .option(\"mergeSchema\",True)\n",
    "#.trigger(once=True)\n",
    " .toTable(\"auto.manju_bronze.autoloaderMerged\")\n",
    " )"
   ]
  },
  {
   "cell_type": "code",
   "execution_count": 0,
   "metadata": {
    "application/vnd.databricks.v1+cell": {
     "cellMetadata": {
      "byteLimit": 2048000,
      "implicitDf": true,
      "rowLimit": 10000
     },
     "inputWidgets": {},
     "nuid": "b55ceaa7-daaa-432e-a874-7ed3cdf29155",
     "showTitle": false,
     "tableResultSettingsMap": {},
     "title": ""
    }
   },
   "outputs": [],
   "source": [
    "%sql\n",
    "select * from auto.manju_bronze.autoloaderMerged"
   ]
  },
  {
   "cell_type": "code",
   "execution_count": 0,
   "metadata": {
    "application/vnd.databricks.v1+cell": {
     "cellMetadata": {
      "byteLimit": 2048000,
      "rowLimit": 10000
     },
     "inputWidgets": {},
     "nuid": "4cd0dc7a-2700-4a15-98d9-0cec324d4e01",
     "showTitle": false,
     "tableResultSettingsMap": {},
     "title": ""
    }
   },
   "outputs": [],
   "source": [
    "input=\"s3://jpmctraining/input\"\n",
    "schema=\"s3://jpmctraining/checkpoint/manju/autoloader/schema4\"\n",
    "checkpoint=\"s3://jpmctraining/checkpoint/manju/autoloader/checkpoint4\""
   ]
  },
  {
   "cell_type": "code",
   "execution_count": 0,
   "metadata": {
    "application/vnd.databricks.v1+cell": {
     "cellMetadata": {
      "byteLimit": 2048000,
      "rowLimit": 10000
     },
     "inputWidgets": {},
     "nuid": "e584bb1e-bd19-4301-9d73-d28251cc58e1",
     "showTitle": false,
     "tableResultSettingsMap": {},
     "title": ""
    }
   },
   "outputs": [],
   "source": [
    "(\n",
    "spark\n",
    " .readStream\n",
    " .format(\"cloudFiles\")                                  # Auto Loader\n",
    " .option(\"cloudFiles.format\", \"json\")                   # Streaming JSON input\n",
    " .option(\"cloudFiles.schemaLocation\", schema)           # Schema tracking path\n",
    " .option(\"cloudFiles.inferColumnTypes\", True)           # Infer column types\n",
    " .option(\"cloudFiles.schemaEvolutionMode\", \"rescue\")    # Store unexpected fields in _rescued_data\n",
    " .load(input)                                           # Source directory\n",
    " .writeStream\n",
    " .option(\"checkpointLocation\", checkpoint)              # For recovery & fault tolerance\n",
    " .option(\"mergeSchema\", True)                           # Required for schema evolution in Delta\n",
    " .trigger(processingTime='2 minutes')                   # Micro-batch interval\n",
    " .toTable(\"auto.manju_bronze.Medcheckup\")               # Target Delta table\n",
    ")"
   ]
  },
  {
   "cell_type": "code",
   "execution_count": 0,
   "metadata": {
    "application/vnd.databricks.v1+cell": {
     "cellMetadata": {
      "byteLimit": 2048000,
      "implicitDf": true,
      "rowLimit": 10000
     },
     "inputWidgets": {},
     "nuid": "ec959eb1-0c9c-4222-84e9-d4ea7bf12dfc",
     "showTitle": false,
     "tableResultSettingsMap": {},
     "title": ""
    }
   },
   "outputs": [],
   "source": [
    "%sql\n",
    "select * from  auto.manju_bronze.Medcheckup"
   ]
  },
  {
   "cell_type": "code",
   "execution_count": 0,
   "metadata": {
    "application/vnd.databricks.v1+cell": {
     "cellMetadata": {
      "byteLimit": 2048000,
      "implicitDf": true,
      "rowLimit": 10000
     },
     "inputWidgets": {},
     "nuid": "eba393b4-3bfb-4aa7-a9c2-513922fa592f",
     "showTitle": false,
     "tableResultSettingsMap": {},
     "title": ""
    }
   },
   "outputs": [],
   "source": [
    "%sql\n",
    "select * from  auto.manju_bronze.Medcheckup"
   ]
  }
 ],
 "metadata": {
  "application/vnd.databricks.v1+notebook": {
   "computePreferences": null,
   "dashboards": [],
   "environmentMetadata": {
    "base_environment": "",
    "environment_version": "2"
   },
   "inputWidgetPreferences": null,
   "language": "python",
   "notebookMetadata": {
    "mostRecentlyExecutedCommandWithImplicitDF": {
     "commandId": 5482134786470822,
     "dataframes": [
      "_sqldf"
     ]
    },
    "pythonIndentUnit": 4
   },
   "notebookName": "Autoloader",
   "widgets": {}
  },
  "language_info": {
   "name": "python"
  }
 },
 "nbformat": 4,
 "nbformat_minor": 0
}
