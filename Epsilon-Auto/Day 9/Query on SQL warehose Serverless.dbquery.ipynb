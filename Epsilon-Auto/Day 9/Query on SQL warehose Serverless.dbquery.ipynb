{
 "cells": [
  {
   "cell_type": "code",
   "execution_count": 0,
   "metadata": {
    "application/vnd.databricks.v1+cell": {
     "cellMetadata": {
      "byteLimit": 10485760,
      "rowLimit": 1000
     },
     "inputWidgets": {},
     "nuid": "48a9274e-b43d-4c5f-8792-a47c3cce9a44",
     "showTitle": false,
     "tableResultSettingsMap": {},
     "title": ""
    }
   },
   "outputs": [],
   "source": [
    "select * from auto.manju_gold.customer_active;\n",
    "\n",
    "\n",
    "\n",
    "create table if not exists auto_marketing_ad_clicks as\n",
    "select * from read_files('s3://jpmctraining/input/auto_marketing_ad_clicks.csv',format=>\"csv\");\n",
    "\n",
    "describe extended auto_marketing_ad_clicks;\n",
    "describe history auto_marketing_ad_clicks;\n",
    "\n",
    "\n",
    "select * from auto_marketing_ad_clicks limit 2;\n",
    "\n"
   ]
  }
 ],
 "metadata": {
  "application/vnd.databricks.v1+notebook": {
   "computePreferences": null,
   "dashboards": [],
   "environmentMetadata": null,
   "inputWidgetPreferences": null,
   "language": "sql",
   "notebookMetadata": {
    "pythonIndentUnit": 4,
    "sqlQueryOptions": {
     "applyAutoLimit": true,
     "catalog": "workspace",
     "schema": "default"
    }
   },
   "notebookName": "Query on SQL warehose Serverless.dbquery.ipynb",
   "widgets": {}
  },
  "language_info": {
   "name": "sql"
  }
 },
 "nbformat": 4,
 "nbformat_minor": 0
}
